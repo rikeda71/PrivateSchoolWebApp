{
 "cells": [
  {
   "cell_type": "markdown",
   "metadata": {},
   "source": [
    "# getdayimg"
   ]
  },
  {
   "cell_type": "markdown",
   "metadata": {},
   "source": [
    "### 目的\n",
    "pdfで与えられたシフトから画像で書かれている日付だけ抽出し，OCRを用いて日にちを抽出\n",
    "\n",
    "### 使用するライブラリ\n",
    "* pyocr\n",
    "* PIL\n",
    "\n",
    "### 使用方法\n",
    "* 以下のコマンドを叩く\n",
    "\n",
    "```\n",
    "pdftoxml -c -xml pdfname output.xml\n",
    "```\n",
    "* pythonで以下を実行\n",
    "\n",
    "```python\n",
    "img = Image.open('output-*_3.png') # *は1以上の数字．ページ数がそのまま入る\n",
    "get_digit_ocr_info(img)\n",
    "```"
   ]
  },
  {
   "cell_type": "code",
   "execution_count": null,
   "metadata": {},
   "outputs": [],
   "source": [
    "import pyocr\n",
    "from PIL import Image\n",
    "import pyocr.builders\n",
    "import glob"
   ]
  },
  {
   "cell_type": "code",
   "execution_count": null,
   "metadata": {},
   "outputs": [],
   "source": [
    "#img : PIL image\n",
    "def get_digit_ocr_info(img):\n",
    "    result = None\n",
    "\n",
    "    width, height=img.size\n",
    "\n",
    "    tools = pyocr.get_available_tools()\n",
    "    tool = tools[0]\n",
    "    langs = tool.get_available_languages()\n",
    "    lang = 'jpn'\n",
    "\n",
    "    digit_txt = tool.image_to_string(\n",
    "      img,\n",
    "      lang=lang,\n",
    "      builder=pyocr.builders.DigitBuilder(tesseract_layout=6)\n",
    "    )\n",
    "    # print('DigitBuilder', digit_txt.replace('ー', '1'))\n",
    "\n",
    "    return digit_txt.replace('ー', '1')"
   ]
  },
  {
   "cell_type": "code",
   "execution_count": null,
   "metadata": {},
   "outputs": [],
   "source": [
    "img = Image.open('pdf2xml-viewer/output-4_3.png')"
   ]
  },
  {
   "cell_type": "code",
   "execution_count": null,
   "metadata": {},
   "outputs": [],
   "source": [
    "get_digit_ocr_info(img)"
   ]
  },
  {
   "cell_type": "code",
   "execution_count": null,
   "metadata": {},
   "outputs": [],
   "source": [
    "for path in glob.glob('pdf2xml-viewer/*.png'):\n",
    "    print(path)\n",
    "    img = Image.open(path)\n",
    "    get_digit_ocr_info(img)"
   ]
  },
  {
   "cell_type": "code",
   "execution_count": null,
   "metadata": {},
   "outputs": [],
   "source": []
  }
 ],
 "metadata": {
  "kernelspec": {
   "display_name": "Python 3",
   "language": "python",
   "name": "python3"
  },
  "language_info": {
   "codemirror_mode": {
    "name": "ipython",
    "version": 3
   },
   "file_extension": ".py",
   "mimetype": "text/x-python",
   "name": "python",
   "nbconvert_exporter": "python",
   "pygments_lexer": "ipython3",
   "version": "3.6.5"
  }
 },
 "nbformat": 4,
 "nbformat_minor": 2
}
