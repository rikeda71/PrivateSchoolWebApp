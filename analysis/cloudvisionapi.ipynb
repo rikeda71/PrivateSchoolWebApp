{
 "cells": [
  {
   "cell_type": "markdown",
   "metadata": {},
   "source": [
    "# Google Vision API サンプル\n",
    "\n",
    "tesseractを用いてOCRを行っているが，コンテナサイズの最適化のためにVisionAPIが使えるか試してみる\n",
    "クレカ紐づけが必要なので，再度，紐づけ完了したら実験する"
   ]
  },
  {
   "cell_type": "markdown",
   "metadata": {},
   "source": [
    "## 使い方\n",
    "1. config.pyを作成\n",
    "2. config.pyの中に\"API_KEY\"という変数を用意し，その中にAPIKEYを記述（githubの管理外にしている）\n",
    "3. 後はnotebookの実行を進める"
   ]
  },
  {
   "cell_type": "code",
   "execution_count": null,
   "metadata": {},
   "outputs": [],
   "source": [
    "# API_KEYを記述\n",
    "import config"
   ]
  },
  {
   "cell_type": "code",
   "execution_count": null,
   "metadata": {},
   "outputs": [],
   "source": [
    "from base64 import b64encode\n",
    "import json\n",
    "import requests\n",
    "import glob\n",
    "import re"
   ]
  },
  {
   "cell_type": "code",
   "execution_count": null,
   "metadata": {},
   "outputs": [],
   "source": [
    "ENDPOINT = 'https://vision.googleapis.com/v1/images:annotate'"
   ]
  },
  {
   "cell_type": "code",
   "execution_count": null,
   "metadata": {},
   "outputs": [],
   "source": [
    "def numerical_sort(value):\n",
    "    numbers = re.compile(r\"(\\d+)\")\n",
    "    parts = numbers.split(value)\n",
    "    parts[1::2] = map(int, parts[1::2])\n",
    "    return parts\n",
    "\n",
    "def glob_sorted_with_number(path):\n",
    "    return sorted(glob.glob(path), key=numerical_sort)"
   ]
  },
  {
   "cell_type": "code",
   "execution_count": null,
   "metadata": {},
   "outputs": [],
   "source": [
    "images = glob_sorted_with_number('output-*.png')\n",
    "images"
   ]
  },
  {
   "cell_type": "code",
   "execution_count": null,
   "metadata": {},
   "outputs": [],
   "source": [
    "img_requests = []\n",
    "for img in images:\n",
    "    with open(img, 'rb') as f:\n",
    "        content = b64encode(f.read()).decode()\n",
    "        form = {'image': {'content': content},\n",
    "                'features': [{'type': 'TEXT_DETECTION',\n",
    "                              'maxResults': 5\n",
    "                             }]\n",
    "               }\n",
    "        img_requests.append(form)"
   ]
  },
  {
   "cell_type": "code",
   "execution_count": null,
   "metadata": {},
   "outputs": [],
   "source": [
    "response = requests.post(ENDPOINT,\n",
    "                         data=json.dumps({'requests': img_requests}).encode(),\n",
    "                         params={'key':config.API_KEY},\n",
    "                         headers={'Content-Type': 'application/json'})"
   ]
  },
  {
   "cell_type": "code",
   "execution_count": null,
   "metadata": {},
   "outputs": [],
   "source": [
    "response.status_code"
   ]
  },
  {
   "cell_type": "code",
   "execution_count": null,
   "metadata": {},
   "outputs": [],
   "source": [
    "for idx, resp in enumerate(response.json()['responses']):\n",
    "    print(json.dumps(resp, indent=2))"
   ]
  }
 ],
 "metadata": {
  "kernelspec": {
   "display_name": "Python 3",
   "language": "python",
   "name": "python3"
  },
  "language_info": {
   "codemirror_mode": {
    "name": "ipython",
    "version": 3
   },
   "file_extension": ".py",
   "mimetype": "text/x-python",
   "name": "python",
   "nbconvert_exporter": "python",
   "pygments_lexer": "ipython3",
   "version": "3.6.7"
  }
 },
 "nbformat": 4,
 "nbformat_minor": 2
}
