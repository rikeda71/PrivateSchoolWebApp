{
 "cells": [
  {
   "cell_type": "markdown",
   "metadata": {},
   "source": [
    "# shift2list"
   ]
  },
  {
   "cell_type": "markdown",
   "metadata": {},
   "source": [
    "### 目的\n",
    "pdfで与えられたシフトを辞書データで扱えるようにする\n",
    "\n",
    "### 使用するライブラリ\n",
    "* tabula-py\n",
    "* numpy\n",
    "* pandas\n",
    "\n",
    "### 使用方法\n",
    "```python\n",
    "df = read_pdf(\"pdfname\", pages=\"all\", multiple_tables=True)\n",
    "for i in range(len(df)):\n",
    "    shift2list(df[i])\n",
    "```"
   ]
  },
  {
   "cell_type": "code",
   "execution_count": null,
   "metadata": {},
   "outputs": [],
   "source": [
    "from tabula import read_pdf\n",
    "import tabula\n",
    "import pandas as pd\n",
    "import numpy as np\n",
    "from copy import deepcopy"
   ]
  },
  {
   "cell_type": "code",
   "execution_count": null,
   "metadata": {},
   "outputs": [],
   "source": [
    "df = read_pdf(\"9.pdf\", pages=\"all\", multiple_tables=True)"
   ]
  },
  {
   "cell_type": "code",
   "execution_count": null,
   "metadata": {},
   "outputs": [],
   "source": [
    "def shift2list(df: pd.DataFrame):\n",
    "    '''\n",
    "    shift of pandas format -> shift of list format\n",
    "    '''\n",
    "    \n",
    "    shiftdict = {}\n",
    "    # コマを抽出\n",
    "    row1 = df[:1]\n",
    "    for i, row in enumerate(row1):\n",
    "        if not row1[i].isnull().values[0]:\n",
    "            coma = row1[i].values[0]\n",
    "            break\n",
    "    \n",
    "    shiftlist = []\n",
    "    # 人名や学年を抽出\n",
    "    student = {'name': '', 'class': '', 'grade': ''}\n",
    "    teacher = {'name': '', 'students': []}\n",
    "    for i in range(len(df)):\n",
    "        elems = df[i][1:].values\n",
    "        if not any(elems == elems):\n",
    "            break\n",
    "        if i % 2 == 0:\n",
    "            newteacher = deepcopy(teacher)\n",
    "            newteacher['name'] = elems[0]\n",
    "            for elem in elems[1:]:\n",
    "                if type(elem) != str:\n",
    "                    continue\n",
    "                s = elem.split(' ')\n",
    "                name = s[0] + s[1]\n",
    "                class_ = s[2]\n",
    "                newstudent = deepcopy(student)\n",
    "                newstudent['name'] = name\n",
    "                newstudent['class'] = class_\n",
    "                newteacher['students'].append(newstudent)\n",
    "        else:\n",
    "            for j, elem in enumerate(elems[1:]):\n",
    "                if type(elem) != str:\n",
    "                    continue\n",
    "                newteacher['students'][j]['grade'] = elem\n",
    "            shiftlist.append(newteacher)\n",
    "    return coma, shiftlist"
   ]
  },
  {
   "cell_type": "code",
   "execution_count": null,
   "metadata": {},
   "outputs": [],
   "source": [
    "shift2list(df[18])"
   ]
  },
  {
   "cell_type": "code",
   "execution_count": null,
   "metadata": {},
   "outputs": [],
   "source": [
    "for i in range(len(df)):\n",
    "    print(i)\n",
    "    print(shift2list(df[i]))"
   ]
  },
  {
   "cell_type": "code",
   "execution_count": null,
   "metadata": {},
   "outputs": [],
   "source": []
  }
 ],
 "metadata": {
  "kernelspec": {
   "display_name": "Python 3",
   "language": "python",
   "name": "python3"
  },
  "language_info": {
   "codemirror_mode": {
    "name": "ipython",
    "version": 3
   },
   "file_extension": ".py",
   "mimetype": "text/x-python",
   "name": "python",
   "nbconvert_exporter": "python",
   "pygments_lexer": "ipython3",
   "version": "3.6.5"
  }
 },
 "nbformat": 4,
 "nbformat_minor": 2
}
